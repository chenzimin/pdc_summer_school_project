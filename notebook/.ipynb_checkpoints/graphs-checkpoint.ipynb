{
 "cells": [
  {
   "cell_type": "code",
   "execution_count": 4,
   "id": "79e247a1",
   "metadata": {},
   "outputs": [],
   "source": [
    "import re\n",
    "\n",
    "from pathlib import Path\n",
    "import matplotlib.pyplot as plt"
   ]
  },
  {
   "cell_type": "code",
   "execution_count": 10,
   "id": "bf52facd",
   "metadata": {},
   "outputs": [],
   "source": [
    "result_dir = Path().parent / 'result'\n",
    "num_particle_result_dir = result_dir / 'num_particles'\n",
    "num_layer_result_dir = result_dir / 'num_layer'\n",
    "\n",
    "result_dict = {\n",
    "    'seq': {\n",
    "        'num_particles': {},\n",
    "        'num_layer': {},\n",
    "    },\n",
    "    'omp': {\n",
    "        'num_particles': {},\n",
    "        'num_layer': {},\n",
    "    },\n",
    "    'mpi': {\n",
    "        'num_particles': {},\n",
    "        'num_layer': {},\n",
    "    },\n",
    "    'hip': {\n",
    "        'num_particles': {},\n",
    "        'num_layer': {},\n",
    "    },\n",
    "}\n",
    "\n",
    "time_regex = re.compile('Time: ([0-9]*[.]?[0-9]+)')"
   ]
  },
  {
   "cell_type": "code",
   "execution_count": null,
   "id": "beadc8e3",
   "metadata": {},
   "outputs": [],
   "source": [
    "for i in range(1, 7):\n",
    "    for prefix in result_dict\n",
    "        result_file = num_particle_result_dir / f'{prefix}_a30k_w{i}_time.txt'\n",
    "        running_time = []\n",
    "        with result_file.open() as f:\n",
    "            for line in f:\n",
    "                match = time_regex.match(line)\n",
    "                if match:\n",
    "                    running_time.append(float(match.group(1)))\n",
    "        assert len(running_time) == 10"
   ]
  },
  {
   "cell_type": "code",
   "execution_count": 11,
   "id": "d89aeed8",
   "metadata": {},
   "outputs": [],
   "source": [
    "m = time_regex.match('Time: 6.330389')"
   ]
  },
  {
   "cell_type": "code",
   "execution_count": 17,
   "id": "17737301",
   "metadata": {},
   "outputs": [
    {
     "data": {
      "text/plain": [
       "'6.330389'"
      ]
     },
     "execution_count": 17,
     "metadata": {},
     "output_type": "execute_result"
    }
   ],
   "source": [
    "m.group(1)"
   ]
  },
  {
   "cell_type": "code",
   "execution_count": null,
   "id": "5b23479c",
   "metadata": {},
   "outputs": [],
   "source": []
  }
 ],
 "metadata": {
  "kernelspec": {
   "display_name": "Python 3",
   "language": "python",
   "name": "python3"
  },
  "language_info": {
   "codemirror_mode": {
    "name": "ipython",
    "version": 3
   },
   "file_extension": ".py",
   "mimetype": "text/x-python",
   "name": "python",
   "nbconvert_exporter": "python",
   "pygments_lexer": "ipython3",
   "version": "3.11.4"
  }
 },
 "nbformat": 4,
 "nbformat_minor": 5
}
