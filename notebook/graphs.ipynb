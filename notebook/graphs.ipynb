{
 "cells": [
  {
   "cell_type": "code",
   "execution_count": 4,
   "id": "3b1037ff",
   "metadata": {},
   "outputs": [],
   "source": [
    "import re\n",
    "\n",
    "from pathlib import Path\n",
    "import matplotlib.pyplot as plt"
   ]
  },
  {
   "cell_type": "code",
   "execution_count": 10,
   "id": "12f1ca90",
   "metadata": {},
   "outputs": [],
   "source": [
    "result_dir = Path().parent / 'result'\n",
    "num_particle_result_dir = result_dir / 'num_particles'\n",
    "num_layer_result_dir = result_dir / 'num_layer'\n",
    "\n",
    "result_dict = {\n",
    "    'seq': {\n",
    "        'num_particles': {},\n",
    "        'num_layer': {},\n",
    "    },\n",
    "    'omp': {\n",
    "        'num_particles': {},\n",
    "        'num_layer': {},\n",
    "    },\n",
    "    'mpi': {\n",
    "        'num_particles': {},\n",
    "        'num_layer': {},\n",
    "    },\n",
    "    'hip': {\n",
    "        'num_particles': {},\n",
    "        'num_layer': {},\n",
    "    },\n",
    "}\n",
    "\n",
    "time_regex = re.compile('Time: ([0-9]*[.]?[0-9]+)')"
   ]
  },
  {
   "cell_type": "code",
   "execution_count": null,
   "id": "5258d00c",
   "metadata": {},
   "outputs": [],
   "source": [
    "for prefix in result_dict\n",
    "    for i in range(1, 7):\n",
    "        particle_result_file = num_particle_result_dir / f'{prefix}_a30k_w{i}_time.txt'\n",
    "        running_time = []\n",
    "        with particle_result_file.open() as f:\n",
    "            for line in f:\n",
    "                match = time_regex.match(line)\n",
    "                if match:\n",
    "                    running_time.append(float(match.group(1)))\n",
    "        assert len(running_time) == 10\n",
    "        average_running_time = sum(running_time)/len(running_time)\n",
    "        result_dict[prefix]['num_particles'][i*20000] = average_running_time\n",
    "    \n",
    "    num_layer = 1\n",
    "    for i in range(1, 21):\n",
    "        layer_result_file = num_layer_result_dir / f'{prefix}_a{num_layer}_w1_time.txt'\n",
    "        running_time = []\n",
    "        with layer_result_file.open() as f:\n",
    "            for line in f:\n",
    "                match = time_regex.match(line)\n",
    "                if match:\n",
    "                    running_time.append(float(match.group(1)))\n",
    "        assert len(running_time) == 10\n",
    "        average_running_time = sum(running_time)/len(running_time)\n",
    "        result_dict[prefix]['num_layer'][num_layer] = average_running_time\n",
    "        num_layer *= 2"
   ]
  },
  {
   "cell_type": "code",
   "execution_count": null,
   "id": "68c59fe9",
   "metadata": {},
   "outputs": [],
   "source": [
    "num_particles_list = None\n",
    "for prefix in result_dict:\n",
    "    if num_particles_list is None:\n",
    "        num_particles_list = sorted(list(result_dict[prefix]['num_particles'].keys()))\n",
    "        \n",
    "    running_times = []\n",
    "    for num_particle in num_particles_list:\n",
    "        running_times.append(result_dict[prefix]['num_particles'][num_particle])\n",
    "    \n",
    "    plt.plot(num_particles_list, running_times, label=prefix)\n",
    "    \n",
    "plt.xlabel(\"Number of particles\")\n",
    "plt.ylabel(\"Running time\")\n",
    "plt.legend()\n",
    "plt.title(\"Running time as number of particles scales\")\n",
    "plt.show()"
   ]
  },
  {
   "cell_type": "code",
   "execution_count": null,
   "id": "e3998979",
   "metadata": {},
   "outputs": [],
   "source": []
  }
 ],
 "metadata": {
  "kernelspec": {
   "display_name": "Python 3",
   "language": "python",
   "name": "python3"
  },
  "language_info": {
   "codemirror_mode": {
    "name": "ipython",
    "version": 3
   },
   "file_extension": ".py",
   "mimetype": "text/x-python",
   "name": "python",
   "nbconvert_exporter": "python",
   "pygments_lexer": "ipython3",
   "version": "3.11.4"
  }
 },
 "nbformat": 4,
 "nbformat_minor": 5
}
